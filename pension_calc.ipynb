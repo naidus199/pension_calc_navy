{
 "cells": [
  {
   "cell_type": "code",
   "execution_count": 1,
   "metadata": {},
   "outputs": [],
   "source": [
    "basic = int(input('Enter your basic salary'))\n",
    "msp = int(input('Enter your MSP'))\n",
    "da = int(input('Enter current DA percentage'))\n",
    "tot_service = int(input('Enter length of service'))\n",
    "leave_days = int(input('Enter total days'))\n",
    "pf = int(input('Enter PF amount'))\n",
    "commutaion = int(input('Enter % of commutation would like to take')) \n",
    "ngis = int(input('Enter NGIS'))\n",
    "age_at_retirement = int(input('Enter age at retirement'))\n",
    "graduity_months = 10\n"
   ]
  },
  {
   "cell_type": "code",
   "execution_count": 3,
   "metadata": {},
   "outputs": [],
   "source": [
    "age_factors = {30:9.173, 31:9.169, 32:9.164, 33:9.159, 34:9.152, 35:9.145, 36:9.136, \n",
    "37:9.126, 38:9.116, 39:9.103, 40:9.09, 41:9.075, 42:9.059, 43:9.04, 44:9.019,\n",
    "45:8.996, 46:8.971, 47:8.943, 48:8.913, 49:8.881, 50:8.846, 51:8.808, 52:8.768,\n",
    "53:8.724, 54:8.678, 55:8.627, 56:8.572, 57:8.512}"
   ]
  },
  {
   "cell_type": "code",
   "execution_count": 8,
   "metadata": {},
   "outputs": [],
   "source": [
    "graduity = ((((basic + msp)* da)/100) + basic + msp) * graduity_months\n",
    "leave_amount = (((basic*da)/100)+basic) * (leave_days/30)\n",
    "full_pension = (basic+msp)/2\n",
    "da_on_pension = (full_pension*da)/100\n",
    "age_factor = age_factors[age_at_retirement]\n",
    "commutaion_amount = ((full_pension*commutaion)/100)*12*age_factor\n",
    "commutation_emi = (full_pension*commutaion)/100\n",
    "tot_comm_repay = commutation_emi*12*15\n",
    "commuted_pesnion = full_pension+da_on_pension-tot_comm_repay"
   ]
  },
  {
   "cell_type": "code",
   "execution_count": 9,
   "metadata": {},
   "outputs": [],
   "source": [
    "amount_in_hand = graduity+leave_amount+pf+commutaion_amount+ngis"
   ]
  },
  {
   "cell_type": "code",
   "execution_count": 10,
   "metadata": {},
   "outputs": [
    {
     "data": {
      "text/plain": [
       "3482751.2"
      ]
     },
     "execution_count": 10,
     "metadata": {},
     "output_type": "execute_result"
    }
   ],
   "source": [
    "amount_in_hand"
   ]
  }
 ],
 "metadata": {
  "kernelspec": {
   "display_name": "Python 3.9.6 64-bit",
   "language": "python",
   "name": "python3"
  },
  "language_info": {
   "codemirror_mode": {
    "name": "ipython",
    "version": 3
   },
   "file_extension": ".py",
   "mimetype": "text/x-python",
   "name": "python",
   "nbconvert_exporter": "python",
   "pygments_lexer": "ipython3",
   "version": "3.9.6"
  },
  "orig_nbformat": 4,
  "vscode": {
   "interpreter": {
    "hash": "d12a6b9364986ad45d31b17cd5f0873e15966b1808348376da40c23385146327"
   }
  }
 },
 "nbformat": 4,
 "nbformat_minor": 2
}
